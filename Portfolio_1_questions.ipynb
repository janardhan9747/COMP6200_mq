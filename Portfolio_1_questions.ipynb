{
  "cells": [
    {
      "cell_type": "markdown",
      "id": "skHfgkqlqndO",
      "metadata": {
        "id": "skHfgkqlqndO"
      },
      "source": [
        "### Analysis of an E-commerce Dataset\n",
        "\n",
        "We have been provided with a combined e-commerce dataset. In this dataset, each user has the ability to post a rating and review for the products they purchased. Additionally, other users can evaluate the initial rating and review by expressing their trust or distrust.\n",
        "\n",
        "This dataset includes a wealth of information for each user. Details such as their profile, ID, gender, city of birth, product ratings (on a scale of 1-5), reviews, and the prices of the products they purchased are all included. Moreover, for each product rating, we have information about the product name, ID, price, and category, the rating score, the timestamp of the rating and review, and the average helpfulness of the rating given by others (on a scale of 1-5).\n",
        "\n",
        "The dataset is from several data sources, and we have merged all the data into a single CSV file named 'A Combined E-commerce Dataset.csv'. The structure of this dataset is represented in the header shown below.\n",
        "\n",
        "| userId | gender | rating | review| item | category | helpfulness | timestamp | item_id | item_price | user_city|\n",
        "\n",
        "    | ---- | ---- | ---- | ---- | ---- | ---- | ---- | ---- | ---- |  ---- |  ---- |  \n",
        "    \n",
        "#### Description of Fields\n",
        "\n",
        "* __userId__ - the user's id\n",
        "* __gender__ - the user's gender\n",
        "* __rating__ - the user's rating towards the item\n",
        "* __review__ - the user's review towards the item\n",
        "* __item__ - the item's name\n",
        "* __category__ - the category of the item\n",
        "* __helpfulness__ - the average helpfulness of this rating\n",
        "* __timestamp__ - the timestamp when the rating is created\n",
        "* __item_id__ - the item's id\n",
        "* __item_price__ - the item's price\n",
        "* __user_city__ - the city of user's birth\n",
        "\n",
        "Note that, a user may rate multiple items and an item may receive ratings and reviews from multiple users. The \"helpfulness\" is an average value based on all the helpfulness values given by others.\n",
        "\n",
        "There are four questions to explore with the data as shown below.\n",
        "\n",
        "\n",
        "\n",
        "<img src=\"data-relation.png\" align=\"left\" width=\"400\"/>\n",
        "(You can find the data relation diagram on iLearn - Portfolio Part 1 resources - Fig1)\n"
      ]
    },
    {
      "cell_type": "markdown",
      "id": "-tb7B7VTqndQ",
      "metadata": {
        "id": "-tb7B7VTqndQ"
      },
      "source": [
        " #### Q1. Remove missing data\n",
        "\n",
        "Please remove the following records in the csv file:\n",
        "\n",
        " * gender/rating/helpfulness is missing\n",
        " * review is 'none'\n",
        "\n",
        "__Display the DataFrame, counting number of Null values in each column, and print the length of the data__ before and after removing the missing data.  "
      ]
    },
    {
      "cell_type": "code",
      "execution_count": 1,
      "id": "67167ed2",
      "metadata": {},
      "outputs": [],
      "source": [
        "import pandas as pd #library used for data analysis and data manipulation\n",
        "import matplotlib.pyplot as plt #library used for data visualization and charts"
      ]
    },
    {
      "cell_type": "code",
      "execution_count": 2,
      "id": "1ecn6H9VqndQ",
      "metadata": {
        "id": "1ecn6H9VqndQ"
      },
      "outputs": [
        {
          "data": {
            "text/html": [
              "<div>\n",
              "<style scoped>\n",
              "    .dataframe tbody tr th:only-of-type {\n",
              "        vertical-align: middle;\n",
              "    }\n",
              "\n",
              "    .dataframe tbody tr th {\n",
              "        vertical-align: top;\n",
              "    }\n",
              "\n",
              "    .dataframe thead th {\n",
              "        text-align: right;\n",
              "    }\n",
              "</style>\n",
              "<table border=\"1\" class=\"dataframe\">\n",
              "  <thead>\n",
              "    <tr style=\"text-align: right;\">\n",
              "      <th></th>\n",
              "      <th>userId</th>\n",
              "      <th>timestamp</th>\n",
              "      <th>review</th>\n",
              "      <th>item</th>\n",
              "      <th>rating</th>\n",
              "      <th>helpfulness</th>\n",
              "      <th>gender</th>\n",
              "      <th>category</th>\n",
              "      <th>item_id</th>\n",
              "      <th>item_price</th>\n",
              "      <th>user_city</th>\n",
              "    </tr>\n",
              "  </thead>\n",
              "  <tbody>\n",
              "    <tr>\n",
              "      <th>0</th>\n",
              "      <td>4051</td>\n",
              "      <td>12807</td>\n",
              "      <td>Great job for what it is!</td>\n",
              "      <td>eBay</td>\n",
              "      <td>5.0</td>\n",
              "      <td>2.0</td>\n",
              "      <td>F</td>\n",
              "      <td>Online Stores &amp; Services</td>\n",
              "      <td>88</td>\n",
              "      <td>149.00</td>\n",
              "      <td>39</td>\n",
              "    </tr>\n",
              "    <tr>\n",
              "      <th>1</th>\n",
              "      <td>4052</td>\n",
              "      <td>122899</td>\n",
              "      <td>Free Access Worth your Time</td>\n",
              "      <td>NetZero</td>\n",
              "      <td>5.0</td>\n",
              "      <td>0.0</td>\n",
              "      <td>F</td>\n",
              "      <td>Online Stores &amp; Services</td>\n",
              "      <td>46</td>\n",
              "      <td>53.00</td>\n",
              "      <td>39</td>\n",
              "    </tr>\n",
              "    <tr>\n",
              "      <th>2</th>\n",
              "      <td>33</td>\n",
              "      <td>12700</td>\n",
              "      <td>AOL..I love you!!!!!!!!!!!!</td>\n",
              "      <td>AOL (America Online)</td>\n",
              "      <td>5.0</td>\n",
              "      <td>4.0</td>\n",
              "      <td>F</td>\n",
              "      <td>Online Stores &amp; Services</td>\n",
              "      <td>0</td>\n",
              "      <td>145.84</td>\n",
              "      <td>31</td>\n",
              "    </tr>\n",
              "    <tr>\n",
              "      <th>3</th>\n",
              "      <td>33</td>\n",
              "      <td>21000</td>\n",
              "      <td>EBAY!!!  I LOVE YOU!!!! :-)*</td>\n",
              "      <td>eBay</td>\n",
              "      <td>5.0</td>\n",
              "      <td>4.0</td>\n",
              "      <td>F</td>\n",
              "      <td>Online Stores &amp; Services</td>\n",
              "      <td>88</td>\n",
              "      <td>149.00</td>\n",
              "      <td>31</td>\n",
              "    </tr>\n",
              "    <tr>\n",
              "      <th>4</th>\n",
              "      <td>33</td>\n",
              "      <td>22300</td>\n",
              "      <td>Blair Witch...Oh Come On.......</td>\n",
              "      <td>Blair Witch Project</td>\n",
              "      <td>1.0</td>\n",
              "      <td>4.0</td>\n",
              "      <td>F</td>\n",
              "      <td>Movies</td>\n",
              "      <td>12</td>\n",
              "      <td>44.00</td>\n",
              "      <td>31</td>\n",
              "    </tr>\n",
              "    <tr>\n",
              "      <th>...</th>\n",
              "      <td>...</td>\n",
              "      <td>...</td>\n",
              "      <td>...</td>\n",
              "      <td>...</td>\n",
              "      <td>...</td>\n",
              "      <td>...</td>\n",
              "      <td>...</td>\n",
              "      <td>...</td>\n",
              "      <td>...</td>\n",
              "      <td>...</td>\n",
              "      <td>...</td>\n",
              "    </tr>\n",
              "    <tr>\n",
              "      <th>19995</th>\n",
              "      <td>10805</td>\n",
              "      <td>50600</td>\n",
              "      <td>The Upper Class Fast Food</td>\n",
              "      <td>Wendy's</td>\n",
              "      <td>2.0</td>\n",
              "      <td>3.0</td>\n",
              "      <td>F</td>\n",
              "      <td>Restaurants &amp; Gourmet</td>\n",
              "      <td>84</td>\n",
              "      <td>69.00</td>\n",
              "      <td>18</td>\n",
              "    </tr>\n",
              "    <tr>\n",
              "      <th>19996</th>\n",
              "      <td>10806</td>\n",
              "      <td>82201</td>\n",
              "      <td>What more can you ask for????</td>\n",
              "      <td>Olive Garden</td>\n",
              "      <td>4.0</td>\n",
              "      <td>0.0</td>\n",
              "      <td>M</td>\n",
              "      <td>Restaurants &amp; Gourmet</td>\n",
              "      <td>49</td>\n",
              "      <td>32.00</td>\n",
              "      <td>28</td>\n",
              "    </tr>\n",
              "    <tr>\n",
              "      <th>19997</th>\n",
              "      <td>10806</td>\n",
              "      <td>82201</td>\n",
              "      <td>Excellent steak for a good price</td>\n",
              "      <td>Outback Steakhouse</td>\n",
              "      <td>4.0</td>\n",
              "      <td>3.0</td>\n",
              "      <td>M</td>\n",
              "      <td>Restaurants &amp; Gourmet</td>\n",
              "      <td>50</td>\n",
              "      <td>25.00</td>\n",
              "      <td>28</td>\n",
              "    </tr>\n",
              "    <tr>\n",
              "      <th>19998</th>\n",
              "      <td>10807</td>\n",
              "      <td>31504</td>\n",
              "      <td>Different story world</td>\n",
              "      <td>J. K. Rowling - Harry Potter and the Sorcerer'...</td>\n",
              "      <td>4.0</td>\n",
              "      <td>0.0</td>\n",
              "      <td>M</td>\n",
              "      <td>Books</td>\n",
              "      <td>36</td>\n",
              "      <td>96.00</td>\n",
              "      <td>27</td>\n",
              "    </tr>\n",
              "    <tr>\n",
              "      <th>19999</th>\n",
              "      <td>10808</td>\n",
              "      <td>10200</td>\n",
              "      <td>Boldly Displaying Sigourneys Cleavage ..</td>\n",
              "      <td>Galaxy Quest</td>\n",
              "      <td>4.0</td>\n",
              "      <td>0.0</td>\n",
              "      <td>M</td>\n",
              "      <td>Movies</td>\n",
              "      <td>29</td>\n",
              "      <td>67.00</td>\n",
              "      <td>11</td>\n",
              "    </tr>\n",
              "  </tbody>\n",
              "</table>\n",
              "<p>20000 rows × 11 columns</p>\n",
              "</div>"
            ],
            "text/plain": [
              "       userId  timestamp                                    review  \\\n",
              "0        4051      12807                 Great job for what it is!   \n",
              "1        4052     122899               Free Access Worth your Time   \n",
              "2          33      12700             AOL..I love you!!!!!!!!!!!!     \n",
              "3          33      21000              EBAY!!!  I LOVE YOU!!!! :-)*   \n",
              "4          33      22300           Blair Witch...Oh Come On.......   \n",
              "...       ...        ...                                       ...   \n",
              "19995   10805      50600                 The Upper Class Fast Food   \n",
              "19996   10806      82201             What more can you ask for????   \n",
              "19997   10806      82201          Excellent steak for a good price   \n",
              "19998   10807      31504                     Different story world   \n",
              "19999   10808      10200  Boldly Displaying Sigourneys Cleavage ..   \n",
              "\n",
              "                                                    item  rating  helpfulness  \\\n",
              "0                                                   eBay     5.0          2.0   \n",
              "1                                                NetZero     5.0          0.0   \n",
              "2                                   AOL (America Online)     5.0          4.0   \n",
              "3                                                   eBay     5.0          4.0   \n",
              "4                                    Blair Witch Project     1.0          4.0   \n",
              "...                                                  ...     ...          ...   \n",
              "19995                                            Wendy's     2.0          3.0   \n",
              "19996                                       Olive Garden     4.0          0.0   \n",
              "19997                                 Outback Steakhouse     4.0          3.0   \n",
              "19998  J. K. Rowling - Harry Potter and the Sorcerer'...     4.0          0.0   \n",
              "19999                                       Galaxy Quest     4.0          0.0   \n",
              "\n",
              "      gender                  category  item_id  item_price  user_city  \n",
              "0          F  Online Stores & Services       88      149.00         39  \n",
              "1          F  Online Stores & Services       46       53.00         39  \n",
              "2          F  Online Stores & Services        0      145.84         31  \n",
              "3          F  Online Stores & Services       88      149.00         31  \n",
              "4          F                    Movies       12       44.00         31  \n",
              "...      ...                       ...      ...         ...        ...  \n",
              "19995      F     Restaurants & Gourmet       84       69.00         18  \n",
              "19996      M     Restaurants & Gourmet       49       32.00         28  \n",
              "19997      M     Restaurants & Gourmet       50       25.00         28  \n",
              "19998      M                     Books       36       96.00         27  \n",
              "19999      M                    Movies       29       67.00         11  \n",
              "\n",
              "[20000 rows x 11 columns]"
            ]
          },
          "metadata": {},
          "output_type": "display_data"
        }
      ],
      "source": [
        "ecommerce_data=pd.read_csv(\"/Users/jenny/Downloads/The E-commerce Dataset.csv\") #pd.read_csv is used to import the .csv files from the system.\n",
        "display(ecommerce_data) #display() shows the first and last 5 rows in the dataset along with the shape of the dataset."
      ]
    },
    {
      "cell_type": "code",
      "execution_count": 3,
      "id": "4bddab34",
      "metadata": {},
      "outputs": [
        {
          "data": {
            "text/html": [
              "<div>\n",
              "<style scoped>\n",
              "    .dataframe tbody tr th:only-of-type {\n",
              "        vertical-align: middle;\n",
              "    }\n",
              "\n",
              "    .dataframe tbody tr th {\n",
              "        vertical-align: top;\n",
              "    }\n",
              "\n",
              "    .dataframe thead th {\n",
              "        text-align: right;\n",
              "    }\n",
              "</style>\n",
              "<table border=\"1\" class=\"dataframe\">\n",
              "  <thead>\n",
              "    <tr style=\"text-align: right;\">\n",
              "      <th></th>\n",
              "      <th>userId</th>\n",
              "      <th>timestamp</th>\n",
              "      <th>review</th>\n",
              "      <th>item</th>\n",
              "      <th>rating</th>\n",
              "      <th>helpfulness</th>\n",
              "      <th>gender</th>\n",
              "      <th>category</th>\n",
              "      <th>item_id</th>\n",
              "      <th>item_price</th>\n",
              "      <th>user_city</th>\n",
              "    </tr>\n",
              "  </thead>\n",
              "  <tbody>\n",
              "    <tr>\n",
              "      <th>0</th>\n",
              "      <td>4051</td>\n",
              "      <td>12807</td>\n",
              "      <td>Great job for what it is!</td>\n",
              "      <td>eBay</td>\n",
              "      <td>5.0</td>\n",
              "      <td>2.0</td>\n",
              "      <td>F</td>\n",
              "      <td>Online Stores &amp; Services</td>\n",
              "      <td>88</td>\n",
              "      <td>149.00</td>\n",
              "      <td>39</td>\n",
              "    </tr>\n",
              "    <tr>\n",
              "      <th>1</th>\n",
              "      <td>4052</td>\n",
              "      <td>122899</td>\n",
              "      <td>Free Access Worth your Time</td>\n",
              "      <td>NetZero</td>\n",
              "      <td>5.0</td>\n",
              "      <td>0.0</td>\n",
              "      <td>F</td>\n",
              "      <td>Online Stores &amp; Services</td>\n",
              "      <td>46</td>\n",
              "      <td>53.00</td>\n",
              "      <td>39</td>\n",
              "    </tr>\n",
              "    <tr>\n",
              "      <th>2</th>\n",
              "      <td>33</td>\n",
              "      <td>12700</td>\n",
              "      <td>AOL..I love you!!!!!!!!!!!!</td>\n",
              "      <td>AOL (America Online)</td>\n",
              "      <td>5.0</td>\n",
              "      <td>4.0</td>\n",
              "      <td>F</td>\n",
              "      <td>Online Stores &amp; Services</td>\n",
              "      <td>0</td>\n",
              "      <td>145.84</td>\n",
              "      <td>31</td>\n",
              "    </tr>\n",
              "    <tr>\n",
              "      <th>3</th>\n",
              "      <td>33</td>\n",
              "      <td>21000</td>\n",
              "      <td>EBAY!!!  I LOVE YOU!!!! :-)*</td>\n",
              "      <td>eBay</td>\n",
              "      <td>5.0</td>\n",
              "      <td>4.0</td>\n",
              "      <td>F</td>\n",
              "      <td>Online Stores &amp; Services</td>\n",
              "      <td>88</td>\n",
              "      <td>149.00</td>\n",
              "      <td>31</td>\n",
              "    </tr>\n",
              "    <tr>\n",
              "      <th>4</th>\n",
              "      <td>33</td>\n",
              "      <td>22300</td>\n",
              "      <td>Blair Witch...Oh Come On.......</td>\n",
              "      <td>Blair Witch Project</td>\n",
              "      <td>1.0</td>\n",
              "      <td>4.0</td>\n",
              "      <td>F</td>\n",
              "      <td>Movies</td>\n",
              "      <td>12</td>\n",
              "      <td>44.00</td>\n",
              "      <td>31</td>\n",
              "    </tr>\n",
              "  </tbody>\n",
              "</table>\n",
              "</div>"
            ],
            "text/plain": [
              "   userId  timestamp                           review                  item  \\\n",
              "0    4051      12807        Great job for what it is!                  eBay   \n",
              "1    4052     122899      Free Access Worth your Time               NetZero   \n",
              "2      33      12700    AOL..I love you!!!!!!!!!!!!    AOL (America Online)   \n",
              "3      33      21000     EBAY!!!  I LOVE YOU!!!! :-)*                  eBay   \n",
              "4      33      22300  Blair Witch...Oh Come On.......   Blair Witch Project   \n",
              "\n",
              "   rating  helpfulness gender                  category  item_id  item_price  \\\n",
              "0     5.0          2.0      F  Online Stores & Services       88      149.00   \n",
              "1     5.0          0.0      F  Online Stores & Services       46       53.00   \n",
              "2     5.0          4.0      F  Online Stores & Services        0      145.84   \n",
              "3     5.0          4.0      F  Online Stores & Services       88      149.00   \n",
              "4     1.0          4.0      F                    Movies       12       44.00   \n",
              "\n",
              "   user_city  \n",
              "0         39  \n",
              "1         39  \n",
              "2         31  \n",
              "3         31  \n",
              "4         31  "
            ]
          },
          "execution_count": 3,
          "metadata": {},
          "output_type": "execute_result"
        }
      ],
      "source": [
        "ecommerce_data.head() #.head()gives the first 5 rows of dataset."
      ]
    },
    {
      "cell_type": "code",
      "execution_count": 4,
      "id": "68d80ee3",
      "metadata": {},
      "outputs": [
        {
          "data": {
            "text/html": [
              "<div>\n",
              "<style scoped>\n",
              "    .dataframe tbody tr th:only-of-type {\n",
              "        vertical-align: middle;\n",
              "    }\n",
              "\n",
              "    .dataframe tbody tr th {\n",
              "        vertical-align: top;\n",
              "    }\n",
              "\n",
              "    .dataframe thead th {\n",
              "        text-align: right;\n",
              "    }\n",
              "</style>\n",
              "<table border=\"1\" class=\"dataframe\">\n",
              "  <thead>\n",
              "    <tr style=\"text-align: right;\">\n",
              "      <th></th>\n",
              "      <th>userId</th>\n",
              "      <th>timestamp</th>\n",
              "      <th>review</th>\n",
              "      <th>item</th>\n",
              "      <th>rating</th>\n",
              "      <th>helpfulness</th>\n",
              "      <th>gender</th>\n",
              "      <th>category</th>\n",
              "      <th>item_id</th>\n",
              "      <th>item_price</th>\n",
              "      <th>user_city</th>\n",
              "    </tr>\n",
              "  </thead>\n",
              "  <tbody>\n",
              "    <tr>\n",
              "      <th>19995</th>\n",
              "      <td>10805</td>\n",
              "      <td>50600</td>\n",
              "      <td>The Upper Class Fast Food</td>\n",
              "      <td>Wendy's</td>\n",
              "      <td>2.0</td>\n",
              "      <td>3.0</td>\n",
              "      <td>F</td>\n",
              "      <td>Restaurants &amp; Gourmet</td>\n",
              "      <td>84</td>\n",
              "      <td>69.0</td>\n",
              "      <td>18</td>\n",
              "    </tr>\n",
              "    <tr>\n",
              "      <th>19996</th>\n",
              "      <td>10806</td>\n",
              "      <td>82201</td>\n",
              "      <td>What more can you ask for????</td>\n",
              "      <td>Olive Garden</td>\n",
              "      <td>4.0</td>\n",
              "      <td>0.0</td>\n",
              "      <td>M</td>\n",
              "      <td>Restaurants &amp; Gourmet</td>\n",
              "      <td>49</td>\n",
              "      <td>32.0</td>\n",
              "      <td>28</td>\n",
              "    </tr>\n",
              "    <tr>\n",
              "      <th>19997</th>\n",
              "      <td>10806</td>\n",
              "      <td>82201</td>\n",
              "      <td>Excellent steak for a good price</td>\n",
              "      <td>Outback Steakhouse</td>\n",
              "      <td>4.0</td>\n",
              "      <td>3.0</td>\n",
              "      <td>M</td>\n",
              "      <td>Restaurants &amp; Gourmet</td>\n",
              "      <td>50</td>\n",
              "      <td>25.0</td>\n",
              "      <td>28</td>\n",
              "    </tr>\n",
              "    <tr>\n",
              "      <th>19998</th>\n",
              "      <td>10807</td>\n",
              "      <td>31504</td>\n",
              "      <td>Different story world</td>\n",
              "      <td>J. K. Rowling - Harry Potter and the Sorcerer'...</td>\n",
              "      <td>4.0</td>\n",
              "      <td>0.0</td>\n",
              "      <td>M</td>\n",
              "      <td>Books</td>\n",
              "      <td>36</td>\n",
              "      <td>96.0</td>\n",
              "      <td>27</td>\n",
              "    </tr>\n",
              "    <tr>\n",
              "      <th>19999</th>\n",
              "      <td>10808</td>\n",
              "      <td>10200</td>\n",
              "      <td>Boldly Displaying Sigourneys Cleavage ..</td>\n",
              "      <td>Galaxy Quest</td>\n",
              "      <td>4.0</td>\n",
              "      <td>0.0</td>\n",
              "      <td>M</td>\n",
              "      <td>Movies</td>\n",
              "      <td>29</td>\n",
              "      <td>67.0</td>\n",
              "      <td>11</td>\n",
              "    </tr>\n",
              "  </tbody>\n",
              "</table>\n",
              "</div>"
            ],
            "text/plain": [
              "       userId  timestamp                                    review  \\\n",
              "19995   10805      50600                 The Upper Class Fast Food   \n",
              "19996   10806      82201             What more can you ask for????   \n",
              "19997   10806      82201          Excellent steak for a good price   \n",
              "19998   10807      31504                     Different story world   \n",
              "19999   10808      10200  Boldly Displaying Sigourneys Cleavage ..   \n",
              "\n",
              "                                                    item  rating  helpfulness  \\\n",
              "19995                                            Wendy's     2.0          3.0   \n",
              "19996                                       Olive Garden     4.0          0.0   \n",
              "19997                                 Outback Steakhouse     4.0          3.0   \n",
              "19998  J. K. Rowling - Harry Potter and the Sorcerer'...     4.0          0.0   \n",
              "19999                                       Galaxy Quest     4.0          0.0   \n",
              "\n",
              "      gender               category  item_id  item_price  user_city  \n",
              "19995      F  Restaurants & Gourmet       84        69.0         18  \n",
              "19996      M  Restaurants & Gourmet       49        32.0         28  \n",
              "19997      M  Restaurants & Gourmet       50        25.0         28  \n",
              "19998      M                  Books       36        96.0         27  \n",
              "19999      M                 Movies       29        67.0         11  "
            ]
          },
          "execution_count": 4,
          "metadata": {},
          "output_type": "execute_result"
        }
      ],
      "source": [
        "ecommerce_data.tail() #.tail()gives the last 5 rows of dataset."
      ]
    },
    {
      "cell_type": "code",
      "execution_count": 5,
      "id": "05446def",
      "metadata": {},
      "outputs": [
        {
          "name": "stdout",
          "output_type": "stream",
          "text": [
            "userId          0\n",
            "timestamp       0\n",
            "review          0\n",
            "item            0\n",
            "rating         17\n",
            "helpfulness    22\n",
            "gender         27\n",
            "category        0\n",
            "item_id         0\n",
            "item_price      0\n",
            "user_city       0\n",
            "dtype: int64\n"
          ]
        }
      ],
      "source": [
        "#count of null values\n",
        "\n",
        "count_of_null = ecommerce_data.isnull() #.isnull() used to find out the null values in the dataset with new variable called count_of_null\n",
        "print(count_of_null.sum()) #there are missing values in \"ratings\", \"helpfulness\" and \"gender\" columns using .sum() the total count is 66"
      ]
    },
    {
      "cell_type": "code",
      "execution_count": 6,
      "id": "ceada9bb",
      "metadata": {},
      "outputs": [
        {
          "name": "stdout",
          "output_type": "stream",
          "text": [
            "Number of rows in the uncleaned dataset: 20000\n"
          ]
        }
      ],
      "source": [
        "length_before = len(ecommerce_data) #the len() used to find out the number of rows in the dataframe(df)\n",
        "print(\"Number of rows in the uncleaned dataset:\", length_before) #there are 2000 rows in the dataframe by default"
      ]
    },
    {
      "cell_type": "code",
      "execution_count": 7,
      "id": "7446757d",
      "metadata": {},
      "outputs": [],
      "source": [
        "#.dropna() is used to drop the missing rows from the df and the after removing the missing values the cleaned df is formed into the new variable given.\n",
        "ecommerce_data_cleaned = ecommerce_data.dropna() "
      ]
    },
    {
      "cell_type": "code",
      "execution_count": 8,
      "id": "5ffd3bf4",
      "metadata": {},
      "outputs": [
        {
          "name": "stdout",
          "output_type": "stream",
          "text": [
            "Number of rows in the cleaned dataset: 19934\n"
          ]
        }
      ],
      "source": [
        "# The length after removing the null values is 19934 so 60 missing values have been removed and updated dataframe is now stored in 'ecommerce_data_cleaned'\n",
        "print(\"Number of rows in the cleaned dataset:\",len(ecommerce_data_cleaned))"
      ]
    },
    {
      "cell_type": "markdown",
      "id": "EJG9_LEmqndR",
      "metadata": {
        "id": "EJG9_LEmqndR"
      },
      "source": [
        "#### Q2. Descriptive statistics\n",
        "\n",
        "With the cleaned data in Q1, please provide the data summarization as below:\n",
        "\n",
        "* Q2.1 total number of unique users, unique reviews, unique items, and unique categories\n",
        "* Q2.2 descriptive statistics, e.g., the total number, mean, std, min and max regarding all rating records\n",
        "* Q2.3 descriptive statistics, e.g., mean, std, max, and min of the number of items rated by different genders\n",
        "* Q2.4 descriptive statistics, e.g., mean, std, max, min of the number of ratings that received by each items\n"
      ]
    },
    {
      "cell_type": "code",
      "execution_count": 9,
      "id": "-fiucmwsqndR",
      "metadata": {
        "id": "-fiucmwsqndR"
      },
      "outputs": [
        {
          "name": "stdout",
          "output_type": "stream",
          "text": [
            "Total unique users: 8565\n",
            "Total unique reviews: 19460\n",
            "Total unique items: 89\n",
            "Total unique categories: 9\n"
          ]
        }
      ],
      "source": [
        "# Q2.1\n",
        "# Total number of unique users\n",
        "unique_users = ecommerce_data_cleaned['userId'].nunique()\n",
        "\n",
        "# Total number of unique reviews\n",
        "unique_reviews = ecommerce_data_cleaned['review'].nunique()\n",
        "\n",
        "# Total number of unique items\n",
        "unique_items = ecommerce_data_cleaned['item'].nunique()\n",
        "\n",
        "# Total number of unique categories\n",
        "unique_categories = ecommerce_data_cleaned['category'].nunique()\n",
        "\n",
        "# Print the results\n",
        "print(\"Total unique users:\", unique_users)\n",
        "print(\"Total unique reviews:\", unique_reviews)\n",
        "print(\"Total unique items:\", unique_items)\n",
        "print(\"Total unique categories:\", unique_categories)\n"
      ]
    },
    {
      "cell_type": "code",
      "execution_count": 10,
      "id": "9451d192",
      "metadata": {},
      "outputs": [
        {
          "name": "stdout",
          "output_type": "stream",
          "text": [
            "count    19934.000000\n",
            "mean         3.701415\n",
            "std          1.404546\n",
            "min          1.000000\n",
            "25%          3.000000\n",
            "50%          4.000000\n",
            "75%          5.000000\n",
            "max          5.000000\n",
            "Name: rating, dtype: float64\n"
          ]
        }
      ],
      "source": [
        "# Q2.2 Descriptive statistics for rating records\n",
        "rating_stats=ecommerce_data_cleaned[\"rating\"].describe()\n",
        "print(rating_stats)"
      ]
    },
    {
      "cell_type": "code",
      "execution_count": 11,
      "id": "0972ad9a",
      "metadata": {},
      "outputs": [
        {
          "name": "stdout",
          "output_type": "stream",
          "text": [
            "count     89.000000\n",
            "mean     223.977528\n",
            "std      116.608511\n",
            "min      139.000000\n",
            "25%      162.000000\n",
            "50%      187.000000\n",
            "75%      245.000000\n",
            "max      941.000000\n",
            "Name: gender, dtype: float64\n"
          ]
        }
      ],
      "source": [
        "# Q2.3 Descriptive statistics, e.g., mean, std, max, and min of the number of items rated by different genders\n",
        "items_rated_bygenders=ecommerce_data_cleaned.groupby(\"item\")[\"gender\"].count()\n",
        "stats_for_itemsbygenders=items_rated_bygenders.describe()\n",
        "print(stats_for_itemsbygenders)"
      ]
    },
    {
      "cell_type": "code",
      "execution_count": 12,
      "id": "0403755a",
      "metadata": {},
      "outputs": [
        {
          "name": "stdout",
          "output_type": "stream",
          "text": [
            "count     89.000000\n",
            "mean     223.977528\n",
            "std      116.608511\n",
            "min      139.000000\n",
            "25%      162.000000\n",
            "50%      187.000000\n",
            "75%      245.000000\n",
            "max      941.000000\n",
            "Name: rating, dtype: float64\n"
          ]
        }
      ],
      "source": [
        "# Q2.4 Descriptive statistics, e.g., mean, std, max, min of the number of ratings that received by each items\n",
        "ratings_per_item=ecommerce_data_cleaned.groupby(\"item\")[\"rating\"].count()\n",
        "statistics_per_item = ratings_per_item.describe()\n",
        "print(statistics_per_item)"
      ]
    },
    {
      "cell_type": "markdown",
      "id": "PISggxe5qndR",
      "metadata": {
        "id": "PISggxe5qndR"
      },
      "source": [
        "#### Q3. Plotting and Analysis\n",
        "\n",
        "Please try to explore the correlation between gender/helpfulness/category and ratings; for instance, do female/male users tend to provide higher ratings than male/female users? Hint: you may use the boxplot function to plot figures for comparison (___Challenge___)\n",
        "    \n",
        "You may need to select the most suitable graphic forms for ease of presentation. Most importantly, for each figure or subfigure, please summarise ___what each plot shows___ (i.e. observations and explanations). Finally, you may need to provide an overall summary of the data."
      ]
    },
    {
      "cell_type": "code",
      "execution_count": 18,
      "id": "93625d8e",
      "metadata": {},
      "outputs": [
        {
          "data": {
            "image/png": "[encoded data removed]",
            "text/plain": [
              "<Figure size 1800x1000 with 1 Axes>"
            ]
          },
          "metadata": {},
          "output_type": "display_data"
        },
        {
          "data": {
            "image/png": "[encoded data removed]",
            "text/plain": [
              "<Figure size 1800x500 with 1 Axes>"
            ]
          },
          "metadata": {},
          "output_type": "display_data"
        },
        {
          "data": {
            "image/png": "[encoded data removed]",
            "text/plain": [
              "<Figure size 1800x500 with 1 Axes>"
            ]
          },
          "metadata": {},
          "output_type": "display_data"
        }
      ],
      "source": [
        "# Q3.3\n",
        "import seaborn as sns\n",
        "import matplotlib.pyplot as plt\n",
        "\n",
        "# Gender vs. Ratings\n",
        "plt.figure(figsize=(18, 10))\n",
        "sns.boxplot(x='gender', y='rating', data=ecommerce_data_cleaned)\n",
        "plt.title('Gender vs. Ratings')\n",
        "plt.xlabel('Gender')\n",
        "plt.ylabel('Rating')\n",
        "plt.show()\n",
        "\n",
        "# Helpfulness vs. Ratings\n",
        "plt.figure(figsize=(18, 5))\n",
        "sns.boxplot(x='helpfulness', y='rating', data=ecommerce_data_cleaned)\n",
        "plt.title('Helpfulness vs. Ratings')\n",
        "plt.xlabel('Helpfulness')\n",
        "plt.ylabel('Rating')\n",
        "plt.show()\n",
        "\n",
        "# Category vs. Ratings\n",
        "plt.figure(figsize=(18, 5))\n",
        "sns.barplot(x='category', y='rating', data=ecommerce_data_cleaned)\n",
        "plt.title('Category vs. Ratings')\n",
        "plt.xlabel('Category')\n",
        "plt.ylabel('Rating')\n",
        "\n",
        "plt.show()\n"
      ]
    },
    {
      "cell_type": "markdown",
      "id": "f5d1abae",
      "metadata": {},
      "source": [
        "## Summary :\n",
        "\n",
        "The analysis of ecommerce data provides a comprehensive overview of user engagement and satisfaction within various categories and demographic segments. Through graphical representations such as box plots and bar charts, several key insights have emerged.\n",
        "\n",
        "Firstly, gender-based analysis demonstrates a balanced distribution of ratings, suggesting an equitable user experience across genders. Similarly, the correlation between helpfulness and ratings reaffirms this trend, indicating consistent levels of user satisfaction irrespective of gender.\n",
        "\n",
        "Categorically, books and games emerge as top performers, boasting the highest average ratings, while media lags behind with the lowest ratings. This discrepancy underscores potential areas for improvement within the media category and highlights the need for targeted interventions to enhance user satisfaction.\n",
        "\n",
        "Interestingly, the observation that certain categories, such as restaurants and gourmet, alongside online stores & services, exhibit identical average ratings prompts further investigation into the underlying factors contributing to this phenomenon. Understanding the drivers behind such consistency can offer valuable insights for optimizing user experiences across various domains.\n",
        "\n",
        "In summation, the ecommerce data analysis provides valuable insights into user behavior and preferences, guiding stakeholders in optimizing their platforms and services to enhance user satisfaction and engagement. By leveraging these insights, businesses can tailor their strategies to better meet the evolving needs and expectations of their customers, ultimately fostering sustainable growth and success in the competitive ecommerce landscape."
      ]
    },
    {
      "cell_type": "markdown",
      "id": "TxD3SLxRqndR",
      "metadata": {
        "id": "TxD3SLxRqndR"
      },
      "source": [
        "#### Q4. Detect and remove outliers\n",
        "\n",
        "We may define outlier users, reviews and items with three rules (if a record meets one of the rules, it is regarded as an outlier):\n",
        "\n",
        "1. reviews of which the helpfulness is no more than 2\n",
        "2. users who rate less than 7 items\n",
        "3. items that receives less than 11 ratings\n",
        "\n",
        "Please remove the corresponding records in the csv file that involves outlier users, reviews and items. You need to follow the order of rules to perform data cleaning operations. After that, __print the length of the data__."
      ]
    },
    {
      "cell_type": "code",
      "execution_count": 14,
      "id": "JaQJmew4qndR",
      "metadata": {
        "id": "JaQJmew4qndR"
      },
      "outputs": [
        {
          "name": "stdout",
          "output_type": "stream",
          "text": [
            "Number of outlier reviews (Rule 1): 6276\n",
            "Number of outlier users (Rule 2): 14870\n",
            "Number of outlier items (Rule 3): 0\n",
            "Length of the cleaned data: 19934\n"
          ]
        }
      ],
      "source": [
        "# Reviews of which the helpfulness is no more than 2\n",
        "outlier_reviews_rule1 = ecommerce_data_cleaned[ecommerce_data_cleaned['helpfulness'] <= 2]\n",
        "\n",
        "# Users who rate less than 7 items\n",
        "user_rating_counts = ecommerce_data_cleaned['userId'].value_counts()\n",
        "outlier_users_rule2 = user_rating_counts[user_rating_counts < 7].index\n",
        "#user_rating_counts = (ecommerce_data_cleaned['userId'].value_counts() < 7)\n",
        "\n",
        "\n",
        "# Items that receive less than 11 ratings\n",
        "item_rating_counts = ecommerce_data_cleaned['item_id'].value_counts()\n",
        "outlier_items_rule3 = item_rating_counts[item_rating_counts < 11].index\n",
        "#item_rating_counts = (ecommerce_data_cleaned['item_id'].value_counts() < 11)\n",
        "\n",
        "# Combine all outlier records\n",
        "outlier_reviews = outlier_reviews_rule1\n",
        "outlier_users = ecommerce_data_cleaned[ecommerce_data_cleaned['userId'].isin(outlier_users_rule2)]\n",
        "outlier_items = ecommerce_data_cleaned[ecommerce_data_cleaned['item_id'].isin(outlier_items_rule3)]\n",
        "\n",
        "# Print the number of outlier records for each rule\n",
        "print(\"Number of outlier reviews (Rule 1):\", len(outlier_reviews))\n",
        "print(\"Number of outlier users (Rule 2):\", len(outlier_users))\n",
        "print(\"Number of outlier items (Rule 3):\", len(outlier_items))\n",
        "print(\"Length of the cleaned data:\", len(ecommerce_data_cleaned))"
      ]
    },
    {
      "cell_type": "code",
      "execution_count": 15,
      "metadata": {},
      "outputs": [
        {
          "name": "stdout",
          "output_type": "stream",
          "text": [
            "Length of the cleaned data: 2696\n"
          ]
        },
        {
          "name": "stderr",
          "output_type": "stream",
          "text": [
            "/var/folders/m1/r9pp18xx61vbjydg2mrssxqh0000gn/T/ipykernel_833/2465948629.py:3: SettingWithCopyWarning: \n",
            "A value is trying to be set on a copy of a slice from a DataFrame\n",
            "\n",
            "See the caveats in the documentation: https://pandas.pydata.org/pandas-docs/stable/user_guide/indexing.html#returning-a-view-versus-a-copy\n",
            "  ecommerce_data_cleaned.drop(outlier_reviews_rule1_indices, inplace=True)\n"
          ]
        }
      ],
      "source": [
        "# Rule 1: Reviews of which the helpfulness is no more than 2\n",
        "outlier_reviews_rule1_indices = ecommerce_data_cleaned[ecommerce_data_cleaned['helpfulness'] <= 2].index\n",
        "ecommerce_data_cleaned.drop(outlier_reviews_rule1_indices, inplace=True)\n",
        "\n",
        "# Rule 2: Users who rate less than 7 items\n",
        "user_rating_counts = ecommerce_data_cleaned['userId'].value_counts()\n",
        "outlier_users_rule2_indices = user_rating_counts[user_rating_counts < 7].index\n",
        "ecommerce_data_cleaned = ecommerce_data_cleaned[~ecommerce_data_cleaned['userId'].isin(outlier_users_rule2_indices)]\n",
        "\n",
        "# Rule 3: Items that receive less than 11 ratings\n",
        "item_rating_counts = ecommerce_data_cleaned['item_id'].value_counts()\n",
        "outlier_items_rule3_indices = item_rating_counts[item_rating_counts < 11].index\n",
        "ecommerce_data_cleaned = ecommerce_data_cleaned[~ecommerce_data_cleaned['item_id'].isin(outlier_items_rule3_indices)]\n",
        "\n",
        "# Print the length of the cleaned data\n",
        "print(\"Length of the cleaned data:\", len(ecommerce_data_cleaned))\n"
      ]
    }
  ],
  "metadata": {
    "colab": {
      "provenance": []
    },
    "kernelspec": {
      "display_name": "Python 3",
      "language": "python",
      "name": "python3"
    },
    "language_info": {
      "codemirror_mode": {
        "name": "ipython",
        "version": 3
      },
      "file_extension": ".py",
      "mimetype": "text/x-python",
      "name": "python",
      "nbconvert_exporter": "python",
      "pygments_lexer": "ipython3",
      "version": "3.11.5"
    }
  },
  "nbformat": 4,
  "nbformat_minor": 5
}
