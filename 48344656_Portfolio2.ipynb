{
  "cells": [
    {
      "cell_type": "markdown",
      "id": "Z88FfJc9lA_T",
      "metadata": {
        "id": "Z88FfJc9lA_T"
      },
      "source": [
        "## Analysis of an E-commerce Dataset Part 2"
      ]
    },
    {
      "cell_type": "markdown",
      "id": "hoq0NwA9lA_V",
      "metadata": {
        "id": "hoq0NwA9lA_V"
      },
      "source": [
        "The goal of the second analysis task is to train linear regression models to predict users' ratings towards items. This involves a standard Data Science workflow: exploring data, building models, making predictions, and evaluating results. In this task, we will explore the impacts of feature selections and different sizes of training/testing data on the model performance. We will use another cleaned combined e-commerce sub-dataset that **is different from** the one in “Analysis of an E-commerce Dataset” task 1."
      ]
    },
    {
      "cell_type": "markdown",
      "id": "f9fd3NU_lA_W",
      "metadata": {
        "id": "f9fd3NU_lA_W"
      },
      "source": [
        "### Import Cleaned E-commerce Dataset\n",
        "The csv file named 'cleaned_ecommerce_dataset.csv' is provided. You may need to use the Pandas method, i.e., `read_csv`, for reading it. After that, please print out its total length."
      ]
    },
    {
      "cell_type": "code",
      "execution_count": 13,
      "id": "PJrb2gtAlA_W",
      "metadata": {
        "id": "PJrb2gtAlA_W"
      },
      "outputs": [],
      "source": [
        "import pandas as pd\n",
        "import matplotlib.pyplot as plt\n",
        "import numpy as np\n",
        "from sklearn.preprocessing import OrdinalEncoder\n",
        "import seaborn as sns"
      ]
    },
    {
      "cell_type": "code",
      "execution_count": 14,
      "id": "02bc1912",
      "metadata": {},
      "outputs": [
        {
          "data": {
            "text/plain": [
              "(2685, 11)"
            ]
          },
          "execution_count": 14,
          "metadata": {},
          "output_type": "execute_result"
        }
      ],
      "source": [
        "# Importing the dataset\n",
        "ecommerce=pd.read_csv(\"/Users/jenny/Documents/Data/cleaned_ecommerce_dataset.csv\")\n",
        "# Checking the shape of the dataframe\n",
        "ecommerce.shape"
      ]
    },
    {
      "cell_type": "markdown",
      "id": "aqbuU6rglA_X",
      "metadata": {
        "id": "aqbuU6rglA_X"
      },
      "source": [
        "### Explore the Dataset\n",
        "\n",
        "* Use the methods, i.e., `head()` and `info()`, to have a rough picture about the data, e.g., how many columns, and the data types of each column.\n",
        "* As our goal is to predict ratings given other columns, please get the correlations between helpfulness/gender/category/review and rating by using the `corr()` method.\n",
        "\n",
        "  Hints: To get the correlations between different features, you may need to first convert the categorical features (i.e., gender, category and review) into numerial values. For doing this, you may need to import `OrdinalEncoder` from `sklearn.preprocessing` (refer to the useful exmaples [here](https://pbpython.com/categorical-encoding.html))\n",
        "* Please provide ___necessary explanations/analysis___ on the correlations, and figure out which are the ___most___ and ___least___ corrleated features regarding rating. Try to ___discuss___ how the correlation will affect the final prediction results, if we use these features to train a regression model for rating prediction. In what follows, we will conduct experiments to verify your hypothesis."
      ]
    },
    {
      "cell_type": "code",
      "execution_count": 15,
      "id": "W3PImHiElA_X",
      "metadata": {
        "id": "W3PImHiElA_X"
      },
      "outputs": [
        {
          "data": {
            "text/html": [
              "<div>\n",
              "<style scoped>\n",
              "    .dataframe tbody tr th:only-of-type {\n",
              "        vertical-align: middle;\n",
              "    }\n",
              "\n",
              "    .dataframe tbody tr th {\n",
              "        vertical-align: top;\n",
              "    }\n",
              "\n",
              "    .dataframe thead th {\n",
              "        text-align: right;\n",
              "    }\n",
              "</style>\n",
              "<table border=\"1\" class=\"dataframe\">\n",
              "  <thead>\n",
              "    <tr style=\"text-align: right;\">\n",
              "      <th></th>\n",
              "      <th>userId</th>\n",
              "      <th>timestamp</th>\n",
              "      <th>review</th>\n",
              "      <th>item</th>\n",
              "      <th>rating</th>\n",
              "      <th>helpfulness</th>\n",
              "      <th>gender</th>\n",
              "      <th>category</th>\n",
              "      <th>item_id</th>\n",
              "      <th>item_price</th>\n",
              "      <th>user_city</th>\n",
              "    </tr>\n",
              "  </thead>\n",
              "  <tbody>\n",
              "    <tr>\n",
              "      <th>0</th>\n",
              "      <td>4081</td>\n",
              "      <td>71900</td>\n",
              "      <td>Not always McCrap</td>\n",
              "      <td>McDonald's</td>\n",
              "      <td>4.0</td>\n",
              "      <td>3.0</td>\n",
              "      <td>M</td>\n",
              "      <td>Restaurants &amp; Gourmet</td>\n",
              "      <td>41</td>\n",
              "      <td>30.74</td>\n",
              "      <td>4</td>\n",
              "    </tr>\n",
              "    <tr>\n",
              "      <th>1</th>\n",
              "      <td>4081</td>\n",
              "      <td>72000</td>\n",
              "      <td>I dropped the chalupa even before he told me to</td>\n",
              "      <td>Taco Bell</td>\n",
              "      <td>1.0</td>\n",
              "      <td>4.0</td>\n",
              "      <td>M</td>\n",
              "      <td>Restaurants &amp; Gourmet</td>\n",
              "      <td>74</td>\n",
              "      <td>108.30</td>\n",
              "      <td>4</td>\n",
              "    </tr>\n",
              "    <tr>\n",
              "      <th>2</th>\n",
              "      <td>4081</td>\n",
              "      <td>72000</td>\n",
              "      <td>The Wonderful World of Wendy</td>\n",
              "      <td>Wendy's</td>\n",
              "      <td>5.0</td>\n",
              "      <td>4.0</td>\n",
              "      <td>M</td>\n",
              "      <td>Restaurants &amp; Gourmet</td>\n",
              "      <td>84</td>\n",
              "      <td>69.00</td>\n",
              "      <td>4</td>\n",
              "    </tr>\n",
              "    <tr>\n",
              "      <th>3</th>\n",
              "      <td>4081</td>\n",
              "      <td>100399</td>\n",
              "      <td>They actually did it</td>\n",
              "      <td>South Park: Bigger, Longer &amp; Uncut</td>\n",
              "      <td>5.0</td>\n",
              "      <td>3.0</td>\n",
              "      <td>M</td>\n",
              "      <td>Movies</td>\n",
              "      <td>68</td>\n",
              "      <td>143.11</td>\n",
              "      <td>4</td>\n",
              "    </tr>\n",
              "    <tr>\n",
              "      <th>4</th>\n",
              "      <td>4081</td>\n",
              "      <td>100399</td>\n",
              "      <td>Hey! Gimme some pie!</td>\n",
              "      <td>American Pie</td>\n",
              "      <td>3.0</td>\n",
              "      <td>3.0</td>\n",
              "      <td>M</td>\n",
              "      <td>Movies</td>\n",
              "      <td>6</td>\n",
              "      <td>117.89</td>\n",
              "      <td>4</td>\n",
              "    </tr>\n",
              "  </tbody>\n",
              "</table>\n",
              "</div>"
            ],
            "text/plain": [
              "   userId  timestamp                                           review  \\\n",
              "0    4081      71900                                Not always McCrap   \n",
              "1    4081      72000  I dropped the chalupa even before he told me to   \n",
              "2    4081      72000                     The Wonderful World of Wendy   \n",
              "3    4081     100399                             They actually did it   \n",
              "4    4081     100399                             Hey! Gimme some pie!   \n",
              "\n",
              "                                 item  rating  helpfulness gender  \\\n",
              "0                          McDonald's     4.0          3.0      M   \n",
              "1                           Taco Bell     1.0          4.0      M   \n",
              "2                             Wendy's     5.0          4.0      M   \n",
              "3  South Park: Bigger, Longer & Uncut     5.0          3.0      M   \n",
              "4                        American Pie     3.0          3.0      M   \n",
              "\n",
              "                category  item_id  item_price  user_city  \n",
              "0  Restaurants & Gourmet       41       30.74          4  \n",
              "1  Restaurants & Gourmet       74      108.30          4  \n",
              "2  Restaurants & Gourmet       84       69.00          4  \n",
              "3                 Movies       68      143.11          4  \n",
              "4                 Movies        6      117.89          4  "
            ]
          },
          "execution_count": 15,
          "metadata": {},
          "output_type": "execute_result"
        }
      ],
      "source": [
        "ecommerce.head() # Gives the first five rows"
      ]
    },
    {
      "cell_type": "code",
      "execution_count": 16,
      "id": "10a1eb1d",
      "metadata": {},
      "outputs": [
        {
          "name": "stdout",
          "output_type": "stream",
          "text": [
            "<class 'pandas.core.frame.DataFrame'>\n",
            "RangeIndex: 2685 entries, 0 to 2684\n",
            "Data columns (total 11 columns):\n",
            " #   Column       Non-Null Count  Dtype  \n",
            "---  ------       --------------  -----  \n",
            " 0   userId       2685 non-null   int64  \n",
            " 1   timestamp    2685 non-null   int64  \n",
            " 2   review       2685 non-null   object \n",
            " 3   item         2685 non-null   object \n",
            " 4   rating       2685 non-null   float64\n",
            " 5   helpfulness  2685 non-null   float64\n",
            " 6   gender       2685 non-null   object \n",
            " 7   category     2685 non-null   object \n",
            " 8   item_id      2685 non-null   int64  \n",
            " 9   item_price   2685 non-null   float64\n",
            " 10  user_city    2685 non-null   int64  \n",
            "dtypes: float64(3), int64(4), object(4)\n",
            "memory usage: 230.9+ KB\n"
          ]
        }
      ],
      "source": [
        "ecommerce.info()"
      ]
    },
    {
      "cell_type": "code",
      "execution_count": 17,
      "id": "791e9382",
      "metadata": {},
      "outputs": [
        {
          "name": "stdout",
          "output_type": "stream",
          "text": [
            "             helpfulness    gender  category    review    rating\n",
            "helpfulness     1.000000  0.075947 -0.013408 -0.028259 -0.007523\n",
            "gender          0.075947  1.000000  0.022549 -0.037884 -0.034337\n",
            "category       -0.013408  0.022549  1.000000  0.001970 -0.163158\n",
            "review         -0.028259 -0.037884  0.001970  1.000000 -0.036118\n",
            "rating         -0.007523 -0.034337 -0.163158 -0.036118  1.000000\n"
          ]
        },
        {
          "data": {
            "text/plain": [
              "<Axes: >"
            ]
          },
          "execution_count": 17,
          "metadata": {},
          "output_type": "execute_result"
        },
        {
          "data": {
            "image/png": "[encoded data removed]",
            "text/plain": [
              "<Figure size 640x480 with 2 Axes>"
            ]
          },
          "metadata": {},
          "output_type": "display_data"
        }
      ],
      "source": [
        "encoder = OrdinalEncoder()\n",
        "ecommerce[['gender', 'category', 'review']] = encoder.fit_transform(ecommerce[['gender', 'category', 'review']])\n",
        "\n",
        "correlations = ecommerce[['helpfulness', 'gender', 'category', 'review', 'rating']].corr()\n",
        "print(correlations)\n",
        "sns.heatmap(correlations)"
      ]
    },
    {
      "cell_type": "markdown",
      "id": "4myP5igslA_Y",
      "metadata": {
        "id": "4myP5igslA_Y"
      },
      "source": [
        "### Split Training and Testing Data\n",
        "* Machine learning models are trained to help make predictions for the future. Normally, we need to randomly split the dataset into training and testing sets, where we use the training set to train the model, and then leverage the well-trained model to make predictions on the testing set.\n",
        "* To further investigate whether the size of the training/testing data affects the model performance, please random split the data into training and testing sets with different sizes:\n",
        "    * Case 1: training data containing 10% of the entire data;\n",
        "    * Case 2: training data containing 90% of the entire data.\n",
        "* Print the shape of training and testing sets in the two cases."
      ]
    },
    {
      "cell_type": "code",
      "execution_count": 18,
      "id": "JIDMig9blA_Y",
      "metadata": {
        "id": "JIDMig9blA_Y"
      },
      "outputs": [
        {
          "name": "stdout",
          "output_type": "stream",
          "text": [
            "Case 1 - Training data shape: (268, 11)\n",
            "Case 1 - Testing data shape: (2417, 11)\n",
            "Case 2 - Training data shape: (2416, 11)\n",
            "Case 2 - Testing data shape: (269, 11)\n"
          ]
        }
      ],
      "source": [
        "# Step 1: Import necessary library for data splitting\n",
        "from sklearn.model_selection import train_test_split\n",
        "\n",
        "# Case 1: Training data containing 10% of the entire data\n",
        "train_case1, test_case1 = train_test_split(ecommerce, test_size=0.9)\n",
        "\n",
        "# Case 2: Training data containing 90% of the entire data\n",
        "train_case2, test_case2 = train_test_split(ecommerce, test_size=0.1)\n",
        "\n",
        "# Step 3: Print the shape of training and testing sets in the two cases\n",
        "print(\"Case 1 - Training data shape:\", train_case1.shape)\n",
        "print(\"Case 1 - Testing data shape:\", test_case1.shape)\n",
        "print(\"Case 2 - Training data shape:\", train_case2.shape)\n",
        "print(\"Case 2 - Testing data shape:\", test_case2.shape)"
      ]
    },
    {
      "cell_type": "markdown",
      "id": "DjSsgT0BlA_Y",
      "metadata": {
        "id": "DjSsgT0BlA_Y"
      },
      "source": [
        "### Train Linear Regression Models with Feature Selection under Cases 1 & 2\n",
        "* When training a machine learning model for prediction, we may need to select the most important/correlated input features for more accurate results.\n",
        "* To investigate whether feature selection affects the model performance, please select two most correlated features and two least correlated features from helpfulness/gender/category/review regarding rating, respectively.\n",
        "* Train four linear regression models by following the conditions:\n",
        "    - (model-a) using the training/testing data in case 1 with two most correlated input features\n",
        "    - (model-b) using the training/testing data in case 1 with two least correlated input features\n",
        "    - (model-c) using the training/testing data in case 2 with two most correlated input features\n",
        "    - (model-d) using the training/testing data in case 2 with two least correlated input features\n",
        "* By doing this, we can verify the impacts of the size of traing/testing data on the model performance via comparing model-a and model-c (or model-b and model-d); meanwhile the impacts of feature selection can be validated via comparing model-a and model-b (or model-c and model-d).    "
      ]
    },
    {
      "cell_type": "code",
      "execution_count": 19,
      "id": "DASzPUATlA_Z",
      "metadata": {
        "id": "DASzPUATlA_Z"
      },
      "outputs": [],
      "source": [
        "from sklearn.linear_model import LinearRegression\n",
        "from sklearn.model_selection import train_test_split\n",
        "\n",
        "# Select features based on correlation values\n",
        "most_correlated_features = ['category', 'gender']  # Selecting two most correlated features\n",
        "least_correlated_features = ['helpfulness', 'review']  # Selecting two least correlated features\n",
        "\n",
        "# Split data into training and testing sets for Cases 1 & 2\n",
        "train_case1, test_case1 = train_test_split(ecommerce, test_size=0.9, random_state=42)\n",
        "train_case2, test_case2 = train_test_split(ecommerce, test_size=0.1, random_state=42)\n",
        "\n",
        "# Train models for each case\n",
        "models = {}\n",
        "\n",
        "# Model-a: Using the training/testing data in case 1 with two most correlated input features\n",
        "X_train_a = train_case1[most_correlated_features]\n",
        "y_train_a = train_case1['rating']\n",
        "X_test_a = test_case1[most_correlated_features]\n",
        "y_test_a = test_case1['rating']\n",
        "\n",
        "model_a = LinearRegression()\n",
        "model_a.fit(X_train_a, y_train_a)\n",
        "models['model_a'] = (model_a, X_train_a, y_train_a, X_test_a, y_test_a)\n",
        "\n",
        "# Model-b: Using the training/testing data in case 1 with two least correlated input features\n",
        "X_train_b = train_case1[least_correlated_features]\n",
        "X_test_b = test_case1[least_correlated_features]\n",
        "\n",
        "model_b = LinearRegression()\n",
        "model_b.fit(X_train_b, y_train_a)\n",
        "models['model_b'] = (model_b, X_train_b, y_train_a, X_test_b, y_test_a)"
      ]
    },
    {
      "cell_type": "code",
      "execution_count": 20,
      "id": "9b2aa905",
      "metadata": {},
      "outputs": [],
      "source": [
        "# Model-c: Using the training/testing data in case 2 with two most correlated input features\n",
        "X_train_c = train_case2[most_correlated_features]\n",
        "y_train_c = train_case2['rating']\n",
        "X_test_c = test_case2[most_correlated_features]\n",
        "y_test_c = test_case2['rating']\n",
        "\n",
        "model_c = LinearRegression()\n",
        "model_c.fit(X_train_c, y_train_c)\n",
        "models['model_c'] = (model_c, X_train_c, y_train_c, X_test_c, y_test_c)\n",
        "\n",
        "# Model-d: Using the training/testing data in case 2 with two least correlated input features\n",
        "X_train_d = train_case2[least_correlated_features]\n",
        "X_test_d = test_case2[least_correlated_features]\n",
        "\n",
        "model_d = LinearRegression()\n",
        "model_d.fit(X_train_d, y_train_c)\n",
        "models['model_d'] = (model_d, X_train_d, y_train_c, X_test_d, y_test_c)\n"
      ]
    },
    {
      "cell_type": "markdown",
      "id": "KATSn7hYlA_Z",
      "metadata": {
        "id": "KATSn7hYlA_Z"
      },
      "source": [
        "### Evaluate Models\n",
        "* Evaluate the performance of the four models with two metrics, including MSE and Root MSE\n",
        "* Print the results of the four models regarding the two metrics"
      ]
    },
    {
      "cell_type": "code",
      "execution_count": 21,
      "id": "4fU8GPS9lA_Z",
      "metadata": {
        "id": "4fU8GPS9lA_Z"
      },
      "outputs": [
        {
          "name": "stdout",
          "output_type": "stream",
          "text": [
            "model_a: MSE = 1.8076399168603041, RMSE = 1.3444850006081526\n",
            "model_b: MSE = 1.8275341162748118, RMSE = 1.3518632017607446\n",
            "model_c: MSE = 1.6762330042324514, RMSE = 1.2946941740165712\n",
            "model_d: MSE = 1.7315431520816085, RMSE = 1.3158811314406818\n"
          ]
        }
      ],
      "source": [
        "# Evaluate models\n",
        "from sklearn.metrics import mean_squared_error\n",
        "evaluation_results = {}\n",
        "\n",
        "for model_name, (model, X_train, y_train, X_test, y_test) in models.items():\n",
        "    y_pred = model.predict(X_test)\n",
        "    mse = mean_squared_error(y_test, y_pred)\n",
        "    rmse = mse ** 0.5\n",
        "    evaluation_results[model_name] = {'MSE': mse, 'RMSE': rmse}\n",
        "\n",
        "# Print evaluation results\n",
        "for model_name, metrics in evaluation_results.items():\n",
        "    print(f\"{model_name}: MSE = {metrics['MSE']}, RMSE = {metrics['RMSE']}\")\n"
      ]
    },
    {
      "cell_type": "markdown",
      "id": "Y9jx-eY6lA_a",
      "metadata": {
        "id": "Y9jx-eY6lA_a"
      },
      "source": [
        "### Visualize, Compare and Analyze the Results\n",
        "* Visulize the results, and perform ___insightful analysis___ on the obtained results. For better visualization, you may need to carefully set the scale for the y-axis.\n",
        "* Normally, the model trained with most correlated features and more training data will get better results. Do you obtain the similar observations? If not, please ___explain the possible reasons___."
      ]
    },
    {
      "cell_type": "code",
      "execution_count": 22,
      "id": "3TNAIGDilA_a",
      "metadata": {
        "id": "3TNAIGDilA_a"
      },
      "outputs": [
        {
          "data": {
            "image/png": "[encoded data removed]",
            "text/plain": [
              "<Figure size 640x480 with 1 Axes>"
            ]
          },
          "metadata": {},
          "output_type": "display_data"
        }
      ],
      "source": [
        "# Extract MSE and RMSE values from evaluation results\n",
        "model_names = list(evaluation_results.keys())\n",
        "mse_values = [metrics['MSE'] for metrics in evaluation_results.values()]\n",
        "rmse_values = [metrics['RMSE'] for metrics in evaluation_results.values()]\n",
        "\n",
        "# Create bar plot\n",
        "plt.bar(model_names, mse_values, label='MSE')\n",
        "plt.bar(model_names, rmse_values, label='RMSE')\n",
        "plt.xlabel('Models')\n",
        "plt.ylabel('Error')\n",
        "plt.title('Comparison of MSE and RMSE for Different Models')\n",
        "plt.legend()\n",
        "plt.grid(axis='y')\n",
        "plt.show()\n"
      ]
    },
    {
      "cell_type": "markdown",
      "id": "23e7d490",
      "metadata": {},
      "source": [
        "1) MSE Comparison:\n",
        "Model C has the lowest MSE value among all models, indicating that it has the best overall performance in terms of mean squared error.\n",
        "Model B has the highest MSE value, suggesting it performs the worst in terms of mean squared error.\n",
        "\n",
        "\n",
        "2) RMSE Comparison:\n",
        "Model C also has the lowest RMSE value, implying it has the best performance in terms of root mean squared error.\n",
        "Model B again has the highest RMSE value, indicating it performs the worst in terms of root mean squared error.\n",
        "\n",
        "It's possible that the features used in the models were not as informative or relevant as initially thought. Models A and D may have included features that introduced noise or were not strongly correlated with the target variable, leading to suboptimal performance.\n",
        "Additionally, the quality of the training data, such as data cleanliness, consistency, and representativeness, could have influenced the performance of the models. If the training data were noisy or biased, it could have negatively impacted the models' performance.\n",
        "\n",
        "Model C stands out as the best-performing model based on both MSE and RMSE values."
      ]
    },
    {
      "cell_type": "markdown",
      "id": "f9ee01ac",
      "metadata": {
        "id": "f9ee01ac"
      },
      "source": [
        "### Data Science Ethics\n",
        "*Please read the following examples [Click here to read the example_1.](https://www.vox.com/covid-19-coronavirus-us-response-trump/2020/5/18/21262265/georgia-covid-19-cases-declining-reopening) [Click here to read the example_2.](https://viborc.com/ethics-and-ethical-data-visualization-a-complete-guide/)\n",
        "\n",
        "*Then view the picture ![My Image](figure_portfolio2.png \"This is my image\")\n",
        "Please compose an analysis of 100-200 words that evaluates potential ethical concerns associated with the infographic, detailing the reasons behind these issues.\n"
      ]
    }
  ],
  "metadata": {
    "colab": {
      "provenance": []
    },
    "kernelspec": {
      "display_name": "Python 3 (ipykernel)",
      "language": "python",
      "name": "python3"
    },
    "language_info": {
      "codemirror_mode": {
        "name": "ipython",
        "version": 3
      },
      "file_extension": ".py",
      "mimetype": "text/x-python",
      "name": "python",
      "nbconvert_exporter": "python",
      "pygments_lexer": "ipython3",
      "version": "3.11.5"
    }
  },
  "nbformat": 4,
  "nbformat_minor": 5
}
